{
  "nbformat": 4,
  "nbformat_minor": 0,
  "metadata": {
    "colab": {
      "provenance": [],
      "authorship_tag": "ABX9TyM5Pysy7Cz5muDHQeuO+NmS",
      "include_colab_link": true
    },
    "kernelspec": {
      "name": "python3",
      "display_name": "Python 3"
    },
    "language_info": {
      "name": "python"
    }
  },
  "cells": [
    {
      "cell_type": "markdown",
      "metadata": {
        "id": "view-in-github",
        "colab_type": "text"
      },
      "source": [
        "<a href=\"https://colab.research.google.com/github/salimyahuza/StudySprint-Tracker/blob/main/Student_Study_Progress_Tracker.ipynb\" target=\"_parent\"><img src=\"https://colab.research.google.com/assets/colab-badge.svg\" alt=\"Open In Colab\"/></a>"
      ]
    },
    {
      "cell_type": "code",
      "execution_count": null,
      "metadata": {
        "id": "7QXHxtza411U"
      },
      "outputs": [],
      "source": []
    },
    {
      "cell_type": "markdown",
      "source": [
        "# Student Study Tracker - Google Colab Notebook\n",
        "\n",
        "## 🔰 Introduction\n",
        "\n",
        "This notebook helps you:\n",
        "- Record daily study activities\n",
        "- View motivational quotes\n",
        "- Visualize your progress\n",
        "- Export logs to a CSV file\n",
        "\n",
        "---\n",
        "\n",
        "## 🧠 Import Libraries"
      ],
      "metadata": {
        "id": "guIzmF_N69YR"
      }
    },
    {
      "cell_type": "code",
      "source": [
        "import pandas as pd\n",
        "import matplotlib.pyplot as plt\n",
        "import seaborn as sns\n",
        "import random\n",
        "from datetime import datetime"
      ],
      "metadata": {
        "id": "laI3yUDq7A3J"
      },
      "execution_count": 1,
      "outputs": []
    },
    {
      "cell_type": "code",
      "source": [
        "quotes = [\n",
        "    \"Success doesn’t come from what you do occasionally, it comes from what you do consistently.\",\n",
        "    \"Don’t watch the clock; do what it does. Keep going.\",\n",
        "    \"Small progress is still progress.\",\n",
        "    \"Push yourself, because no one else is going to do it for you.\",\n",
        "    \"It’s not about having time, it’s about making time.\"\n",
        "    \"The only way to do great work is to love what you do.\"\n",
        "    \"Your work is going to fill a large part of your life. Do what you believe is great work.\"\n",
        "    \"Your present circumstances don't determine where you can go; they merely determine where you start.\"\n",
        "    \"It's not whether you get knocked down, it's whether you get up.\"\n",
        "    \"Through the toughest battles, you emerge stronger and wiser.\"\n",
        "    \"Courage isn't always a roar. Sometimes it's the quiet voice saying, 'I'll try again tomorrow.'\"\n",
        "    \"An investment in knowledge pays the best interest.\"\n",
        "    \"Education is the most powerful weapon which you can use to change the world.\"\n",
        "    \"Develop a passion for learning. If you do, you will never cease to grow.\"\n",
        "    \"Success is the sum of small efforts, repeated daily.\"\n",
        "    \"Great things never come from comfort zones.\"\n",
        "    \"Consistency is more important than perfection.\"\n",
        "    \"The mind is not a vessel to be filled, but a fire to be kindled.\"\n",
        "    \"Fall seven times, stand up eight.\"\n",
        "    \"Opportunities don't happen, you create them.\"\n",
        "    \"Learn as if you will live forever, live as if you will die tomorrow.\"\n",
        "    \"The secret of getting ahead is getting started.\"\n",
        "    \"Setting goals is the first step in turning the invisible into the visible.\"\n",
        "    \"Strive for progress, not perfection.\"\n",
        "    \"Defeat is simply the addition of time to change direction.\"\n",
        "    \"Believe you can and you're halfway there.\"\n",
        "    \"Preparation is the key to success.\"\n",
        "    \"The expert in anything was once a beginner.\"\n",
        "    \"Obstacles don't stop you. They help you discover your inner strengths.\"\n",
        "    \"Resilience is accepting your new reality, even if it's less good than the one you had before.\"\n",
        "    \"It does not matter how slowly you go as long as you do not stop.\"\n",
        "    \"Life doesn't get easier; we get stronger and more resilient.\"\n",
        "    \"Don't watch the clock; do what it does. Keep going.\"\n",
        "    \"That which does not kill us makes us stronger.\"\n",
        "    \"Success usually comes to those who are too busy to be looking for it.\"\n",
        "    \"Your greatest struggles will be your greatest lessons.\"\n",
        "    \"Small steps every day add up to big results.\"\n",
        "\n",
        "]\n",
        "\n",
        "with open(\"quotes.txt\", \"w\") as file:\n",
        "    for q in quotes:\n",
        "        file.write(q + \"\\n\")\n",
        "print(\"✅ quotes.txt file created.\")\n"
      ],
      "metadata": {
        "colab": {
          "base_uri": "https://localhost:8080/"
        },
        "id": "FrHUKW2xC_Kh",
        "outputId": "3b42e91c-6bbe-4efe-b4d9-581c9d8b3129"
      },
      "execution_count": 2,
      "outputs": [
        {
          "output_type": "stream",
          "name": "stdout",
          "text": [
            "✅ quotes.txt file created.\n"
          ]
        }
      ]
    },
    {
      "cell_type": "markdown",
      "source": [
        "## 💬 Motivational Quote of the Day"
      ],
      "metadata": {
        "id": "D9gL4uSc7hD8"
      }
    },
    {
      "cell_type": "code",
      "source": [
        "with open(\"quotes.txt\", \"r\") as file:\n",
        "    quotes = [line.strip() for line in file if line.strip()]\n",
        "\n",
        "quote_of_the_day = random.choice(quotes)\n",
        "print(\"\\n✨ Quote of the Day ✨\")\n",
        "print(\"-\" * len(quote_of_the_day))\n",
        "print(quote_of_the_day)\n",
        "print(\"-\" * len(quote_of_the_day))"
      ],
      "metadata": {
        "colab": {
          "base_uri": "https://localhost:8080/"
        },
        "id": "_BRenJ9N7iHb",
        "outputId": "cb61fb4f-06b1-4f8f-b7ca-0909e624cd06"
      },
      "execution_count": 3,
      "outputs": [
        {
          "output_type": "stream",
          "name": "stdout",
          "text": [
            "\n",
            "✨ Quote of the Day ✨\n",
            "---------------------------------\n",
            "Small progress is still progress.\n",
            "---------------------------------\n"
          ]
        }
      ]
    },
    {
      "cell_type": "code",
      "metadata": {
        "colab": {
          "base_uri": "https://localhost:8080/"
        },
        "id": "dc98d99c",
        "outputId": "239532e4-8ee1-4666-f6f2-2f7765b1d1ce"
      },
      "source": [
        "%%writefile quotes.txt\n",
        "The only way to do great work is to love what you do. - Steve Jobs\n",
        "Believe you can and you're halfway there. - Theodore Roosevelt\n",
        "The future belongs to those who believe in the beauty of their dreams. - Eleanor Roosevelt\n",
        "Strive not to be a success, but rather to be of value. - Albert Einstein\n",
        "Your limitation—it's only your imagination."
      ],
      "execution_count": 4,
      "outputs": [
        {
          "output_type": "stream",
          "name": "stdout",
          "text": [
            "Overwriting quotes.txt\n"
          ]
        }
      ]
    },
    {
      "cell_type": "markdown",
      "source": [
        "## 📝 Log Today's Study Session"
      ],
      "metadata": {
        "id": "85be0qTu8sbc"
      }
    },
    {
      "cell_type": "code",
      "source": [
        "# Define log structure\n",
        "log_entry = {}\n",
        "log_entry['Date'] = datetime.now().strftime(\"%Y-%m-%d\")\n",
        "log_entry['Subject'] = input(\"Subject/Topic: \")\n",
        "log_entry['Hours Studied'] = float(input(\"Hours Studied: \"))\n",
        "log_entry['What You Learned'] = input(\"What did you learn today? \")\n",
        "log_entry['Challenges Faced'] = input(\"Any challenges? \")"
      ],
      "metadata": {
        "colab": {
          "base_uri": "https://localhost:8080/"
        },
        "id": "MSvhv-Oe8tkb",
        "outputId": "7c1091f0-5729-47c7-dad4-d12119ce1594"
      },
      "execution_count": 5,
      "outputs": [
        {
          "name": "stdout",
          "output_type": "stream",
          "text": [
            "Subject/Topic: Linear algebra\n",
            "Hours Studied: 3\n",
            "What did you learn today? Matrices\n",
            "Any challenges? Yes, very challenging!\n"
          ]
        }
      ]
    },
    {
      "cell_type": "code",
      "source": [
        "# Load updated_df if it doesn't already exist\n",
        "try:\n",
        "    updated_df\n",
        "except NameError:\n",
        "    import pandas as pd\n",
        "    try:\n",
        "        updated_df = pd.read_csv('study_log.csv')\n",
        "    except FileNotFoundError:\n",
        "        print(\"No study log found. Please log at least one study session first.\")\n",
        "        updated_df = pd.DataFrame(columns=[\"Date\", \"Subject\", \"Hours Studied\", \"Notes\"])\n",
        "\n",
        "# Convert 'Date' to datetime just in case\n",
        "updated_df['Date'] = pd.to_datetime(updated_df['Date'], errors='coerce')\n",
        "\n",
        "# Search by subject or date\n",
        "search_input = input(\"🔍 Enter a subject or date (YYYY-MM-DD) to filter logs: \").strip()\n",
        "\n",
        "# Attempt date filtering if the input looks like a date\n",
        "try:\n",
        "    filtered_logs = updated_df[updated_df['Date'] == pd.to_datetime(search_input)]\n",
        "except:\n",
        "    # Otherwise filter by subject (case-insensitive)\n",
        "    filtered_logs = updated_df[updated_df['Subject'].str.contains(search_input, case=False, na=False)]\n",
        "\n",
        "# Display the result\n",
        "if not filtered_logs.empty:\n",
        "    print(\"\\n📝 Matching Study Logs:\\n\")\n",
        "    display(filtered_logs)\n",
        "else:\n",
        "    print(\"\\n🚫 No matching study sessions found.\")\n"
      ],
      "metadata": {
        "id": "LlUYZSWtvJ3y",
        "colab": {
          "base_uri": "https://localhost:8080/"
        },
        "outputId": "54c6f346-004d-4792-a8ea-f47f5fde0ff1"
      },
      "execution_count": 6,
      "outputs": [
        {
          "output_type": "stream",
          "name": "stdout",
          "text": [
            "No study log found. Please log at least one study session first.\n",
            "🔍 Enter a subject or date (YYYY-MM-DD) to filter logs: 2025-07-22\n",
            "\n",
            "🚫 No matching study sessions found.\n"
          ]
        }
      ]
    },
    {
      "cell_type": "markdown",
      "source": [
        "## 📚 Load or Create Study Log CSV"
      ],
      "metadata": {
        "id": "bdN-CDib9Ona"
      }
    },
    {
      "cell_type": "code",
      "source": [
        "try:\n",
        "    df_log = pd.read_csv(\"study_log.csv\")\n",
        "except FileNotFoundError:\n",
        "    df_log = pd.DataFrame(columns=['Date', 'Subject', 'Hours Studied', 'What You Learned', 'Challenges Faced'])\n",
        "\n",
        "# Append new entry and save\n",
        "updated_df = pd.concat([df_log, pd.DataFrame([log_entry])], ignore_index=True)\n",
        "updated_df.to_csv(\"study_log.csv\", index=False)"
      ],
      "metadata": {
        "id": "WRMJNFUX9PqO",
        "colab": {
          "base_uri": "https://localhost:8080/"
        },
        "outputId": "5f201ff7-39fc-45e7-faa2-73fbe624355e"
      },
      "execution_count": 7,
      "outputs": [
        {
          "output_type": "stream",
          "name": "stderr",
          "text": [
            "/tmp/ipython-input-7-712912354.py:7: FutureWarning: The behavior of DataFrame concatenation with empty or all-NA entries is deprecated. In a future version, this will no longer exclude empty or all-NA columns when determining the result dtypes. To retain the old behavior, exclude the relevant entries before the concat operation.\n",
            "  updated_df = pd.concat([df_log, pd.DataFrame([log_entry])], ignore_index=True)\n"
          ]
        }
      ]
    },
    {
      "cell_type": "markdown",
      "source": [
        "## 📊 Visualize Study Progress"
      ],
      "metadata": {
        "id": "fK76AueY9zqB"
      }
    },
    {
      "cell_type": "code",
      "source": [
        "plt.figure(figsize=(10, 5))\n",
        "sns.lineplot(data=updated_df, x=\"Date\", y=\"Hours Studied\", marker='o')\n",
        "plt.xticks(rotation=45)\n",
        "plt.title(\"📈 Daily Hours Studied\")\n",
        "plt.grid(True)\n",
        "plt.tight_layout()\n",
        "plt.show()\n",
        "\n",
        "plt.figure(figsize=(10, 5))\n",
        "sns.countplot(data=updated_df, x=\"Subject\", order=updated_df['Subject'].value_counts().index)\n",
        "plt.xticks(rotation=45)\n",
        "plt.title(\"📚 Study Frequency by Subject\")\n",
        "plt.tight_layout()\n",
        "plt.show()"
      ],
      "metadata": {
        "colab": {
          "base_uri": "https://localhost:8080/",
          "height": 1000
        },
        "id": "48F_lG5M90q1",
        "outputId": "0c7c3c45-05a4-4ba3-8ff1-d68fad74dc33"
      },
      "execution_count": 8,
      "outputs": [
        {
          "output_type": "stream",
          "name": "stderr",
          "text": [
            "/tmp/ipython-input-8-3200820275.py:6: UserWarning: Glyph 128200 (\\N{CHART WITH UPWARDS TREND}) missing from font(s) DejaVu Sans.\n",
            "  plt.tight_layout()\n",
            "/usr/local/lib/python3.11/dist-packages/IPython/core/pylabtools.py:151: UserWarning: Glyph 128200 (\\N{CHART WITH UPWARDS TREND}) missing from font(s) DejaVu Sans.\n",
            "  fig.canvas.print_figure(bytes_io, **kw)\n"
          ]
        },
        {
          "output_type": "display_data",
          "data": {
            "text/plain": [
              "<Figure size 1000x500 with 1 Axes>"
            ],
            "image/png": "[encoded data removed]"
          },
          "metadata": {}
        },
        {
          "output_type": "stream",
          "name": "stderr",
          "text": [
            "/tmp/ipython-input-8-3200820275.py:13: UserWarning: Glyph 128218 (\\N{BOOKS}) missing from font(s) DejaVu Sans.\n",
            "  plt.tight_layout()\n",
            "/usr/local/lib/python3.11/dist-packages/IPython/core/pylabtools.py:151: UserWarning: Glyph 128218 (\\N{BOOKS}) missing from font(s) DejaVu Sans.\n",
            "  fig.canvas.print_figure(bytes_io, **kw)\n"
          ]
        },
        {
          "output_type": "display_data",
          "data": {
            "text/plain": [
              "<Figure size 1000x500 with 1 Axes>"
            ],
            "image/png": "[encoded data removed]"
          },
          "metadata": {}
        }
      ]
    },
    {
      "cell_type": "markdown",
      "source": [
        "## 📤 Export Study Log to CSV"
      ],
      "metadata": {
        "id": "pbLwSzOI-fBF"
      }
    },
    {
      "cell_type": "code",
      "source": [
        "import os\n",
        "if os.path.exists(\"study_log.csv\"):\n",
        "    from google.colab import files\n",
        "    files.download(\"study_log.csv\")\n",
        "else:\n",
        "    print(\"⚠️ File 'study_log.csv' does not exist.\")\n"
      ],
      "metadata": {
        "colab": {
          "base_uri": "https://localhost:8080/",
          "height": 17
        },
        "id": "HezPMCc_4PzN",
        "outputId": "5b5814a5-c15b-4516-8d93-597f1799d717"
      },
      "execution_count": 9,
      "outputs": [
        {
          "output_type": "display_data",
          "data": {
            "text/plain": [
              "<IPython.core.display.Javascript object>"
            ],
            "application/javascript": [
              "\n",
              "    async function download(id, filename, size) {\n",
              "      if (!google.colab.kernel.accessAllowed) {\n",
              "        return;\n",
              "      }\n",
              "      const div = document.createElement('div');\n",
              "      const label = document.createElement('label');\n",
              "      label.textContent = `Downloading \"${filename}\": `;\n",
              "      div.appendChild(label);\n",
              "      const progress = document.createElement('progress');\n",
              "      progress.max = size;\n",
              "      div.appendChild(progress);\n",
              "      document.body.appendChild(div);\n",
              "\n",
              "      const buffers = [];\n",
              "      let downloaded = 0;\n",
              "\n",
              "      const channel = await google.colab.kernel.comms.open(id);\n",
              "      // Send a message to notify the kernel that we're ready.\n",
              "      channel.send({})\n",
              "\n",
              "      for await (const message of channel.messages) {\n",
              "        // Send a message to notify the kernel that we're ready.\n",
              "        channel.send({})\n",
              "        if (message.buffers) {\n",
              "          for (const buffer of message.buffers) {\n",
              "            buffers.push(buffer);\n",
              "            downloaded += buffer.byteLength;\n",
              "            progress.value = downloaded;\n",
              "          }\n",
              "        }\n",
              "      }\n",
              "      const blob = new Blob(buffers, {type: 'application/binary'});\n",
              "      const a = document.createElement('a');\n",
              "      a.href = window.URL.createObjectURL(blob);\n",
              "      a.download = filename;\n",
              "      div.appendChild(a);\n",
              "      a.click();\n",
              "      div.remove();\n",
              "    }\n",
              "  "
            ]
          },
          "metadata": {}
        },
        {
          "output_type": "display_data",
          "data": {
            "text/plain": [
              "<IPython.core.display.Javascript object>"
            ],
            "application/javascript": [
              "download(\"download_f290dd71-eaf2-401d-8be9-08826ce72628\", \"study_log.csv\", 125)"
            ]
          },
          "metadata": {}
        }
      ]
    },
    {
      "cell_type": "code",
      "source": [
        "from google.colab import files\n",
        "files.download(\"study_log.csv\")"
      ],
      "metadata": {
        "colab": {
          "base_uri": "https://localhost:8080/",
          "height": 17
        },
        "id": "SjdDiN4j-hIZ",
        "outputId": "5d631ec2-0120-426d-9f4b-957132e6f120"
      },
      "execution_count": 10,
      "outputs": [
        {
          "output_type": "display_data",
          "data": {
            "text/plain": [
              "<IPython.core.display.Javascript object>"
            ],
            "application/javascript": [
              "\n",
              "    async function download(id, filename, size) {\n",
              "      if (!google.colab.kernel.accessAllowed) {\n",
              "        return;\n",
              "      }\n",
              "      const div = document.createElement('div');\n",
              "      const label = document.createElement('label');\n",
              "      label.textContent = `Downloading \"${filename}\": `;\n",
              "      div.appendChild(label);\n",
              "      const progress = document.createElement('progress');\n",
              "      progress.max = size;\n",
              "      div.appendChild(progress);\n",
              "      document.body.appendChild(div);\n",
              "\n",
              "      const buffers = [];\n",
              "      let downloaded = 0;\n",
              "\n",
              "      const channel = await google.colab.kernel.comms.open(id);\n",
              "      // Send a message to notify the kernel that we're ready.\n",
              "      channel.send({})\n",
              "\n",
              "      for await (const message of channel.messages) {\n",
              "        // Send a message to notify the kernel that we're ready.\n",
              "        channel.send({})\n",
              "        if (message.buffers) {\n",
              "          for (const buffer of message.buffers) {\n",
              "            buffers.push(buffer);\n",
              "            downloaded += buffer.byteLength;\n",
              "            progress.value = downloaded;\n",
              "          }\n",
              "        }\n",
              "      }\n",
              "      const blob = new Blob(buffers, {type: 'application/binary'});\n",
              "      const a = document.createElement('a');\n",
              "      a.href = window.URL.createObjectURL(blob);\n",
              "      a.download = filename;\n",
              "      div.appendChild(a);\n",
              "      a.click();\n",
              "      div.remove();\n",
              "    }\n",
              "  "
            ]
          },
          "metadata": {}
        },
        {
          "output_type": "display_data",
          "data": {
            "text/plain": [
              "<IPython.core.display.Javascript object>"
            ],
            "application/javascript": [
              "download(\"download_79f1c35d-ffe0-41ab-9d0e-65530c9d1cdb\", \"study_log.csv\", 125)"
            ]
          },
          "metadata": {}
        }
      ]
    },
    {
      "cell_type": "markdown",
      "source": [
        "## ✅ Final Note\n"
      ],
      "metadata": {
        "id": "I8KJo1kV-_nR"
      }
    },
    {
      "cell_type": "markdown",
      "source": [
        "You can run this notebook every day to:\n",
        "- Stay consistent\n",
        "- Track growth\n",
        "- Stay inspired 🎯"
      ],
      "metadata": {
        "id": "5Je7-ikR_xZe"
      }
    },
    {
      "cell_type": "code",
      "source": [
        "!pip install calmap"
      ],
      "metadata": {
        "colab": {
          "base_uri": "https://localhost:8080/"
        },
        "id": "wt_cCMkUFn_B",
        "outputId": "2cb21fb9-e588-4347-c37f-15112c847339"
      },
      "execution_count": 11,
      "outputs": [
        {
          "output_type": "stream",
          "name": "stdout",
          "text": [
            "Collecting calmap\n",
            "  Downloading calmap-0.0.11-py2.py3-none-any.whl.metadata (2.2 kB)\n",
            "Requirement already satisfied: matplotlib in /usr/local/lib/python3.11/dist-packages (from calmap) (3.10.0)\n",
            "Requirement already satisfied: numpy in /usr/local/lib/python3.11/dist-packages (from calmap) (2.0.2)\n",
            "Requirement already satisfied: pandas in /usr/local/lib/python3.11/dist-packages (from calmap) (2.2.2)\n",
            "Requirement already satisfied: contourpy>=1.0.1 in /usr/local/lib/python3.11/dist-packages (from matplotlib->calmap) (1.3.2)\n",
            "Requirement already satisfied: cycler>=0.10 in /usr/local/lib/python3.11/dist-packages (from matplotlib->calmap) (0.12.1)\n",
            "Requirement already satisfied: fonttools>=4.22.0 in /usr/local/lib/python3.11/dist-packages (from matplotlib->calmap) (4.59.0)\n",
            "Requirement already satisfied: kiwisolver>=1.3.1 in /usr/local/lib/python3.11/dist-packages (from matplotlib->calmap) (1.4.8)\n",
            "Requirement already satisfied: packaging>=20.0 in /usr/local/lib/python3.11/dist-packages (from matplotlib->calmap) (25.0)\n",
            "Requirement already satisfied: pillow>=8 in /usr/local/lib/python3.11/dist-packages (from matplotlib->calmap) (11.2.1)\n",
            "Requirement already satisfied: pyparsing>=2.3.1 in /usr/local/lib/python3.11/dist-packages (from matplotlib->calmap) (3.2.3)\n",
            "Requirement already satisfied: python-dateutil>=2.7 in /usr/local/lib/python3.11/dist-packages (from matplotlib->calmap) (2.9.0.post0)\n",
            "Requirement already satisfied: pytz>=2020.1 in /usr/local/lib/python3.11/dist-packages (from pandas->calmap) (2025.2)\n",
            "Requirement already satisfied: tzdata>=2022.7 in /usr/local/lib/python3.11/dist-packages (from pandas->calmap) (2025.2)\n",
            "Requirement already satisfied: six>=1.5 in /usr/local/lib/python3.11/dist-packages (from python-dateutil>=2.7->matplotlib->calmap) (1.17.0)\n",
            "Downloading calmap-0.0.11-py2.py3-none-any.whl (7.3 kB)\n",
            "Installing collected packages: calmap\n",
            "Successfully installed calmap-0.0.11\n"
          ]
        }
      ]
    },
    {
      "cell_type": "code",
      "source": [
        "import calmap\n",
        "\n",
        "# Convert date column to datetime\n",
        "updated_df['Date'] = pd.to_datetime(updated_df['Date'], errors='coerce')\n",
        "\n",
        "# Create a Series with dates as index and hours studied as values\n",
        "study_series = updated_df.groupby('Date')['Hours Studied'].sum()\n",
        "\n",
        "# Plot the calendar heatmap only if there's more than one date\n",
        "if study_series.shape[0] > 1:\n",
        "    plt.figure(figsize=(16, 6))\n",
        "    calmap.calendarplot(study_series, cmap='YlGn', fillcolor='lightgray', linewidth=0.5)\n",
        "    plt.suptitle('📅 Study Consistency Calendar Heatmap', fontsize=16)\n",
        "    plt.show()\n",
        "else:\n",
        "    print(\"📅 Not enough data for heatmap. Log more study sessions on different dates.\")\n"
      ],
      "metadata": {
        "colab": {
          "base_uri": "https://localhost:8080/"
        },
        "id": "6ST6Dy78FxFk",
        "outputId": "722e6a6b-2537-4aa3-8c97-a4730dc38304"
      },
      "execution_count": 12,
      "outputs": [
        {
          "output_type": "stream",
          "name": "stdout",
          "text": [
            "📅 Not enough data for heatmap. Log more study sessions on different dates.\n"
          ]
        }
      ]
    },
    {
      "cell_type": "markdown",
      "source": [
        "### 🔒 Google Calendar Integration (Disabled for Demo)\n",
        "\n",
        "This section includes optional Google Calendar integration for setting reminders.\n",
        "\n",
        "It is **disabled** in this demo to avoid browser-based authentication prompts that may interrupt reviewers.\n",
        "\n",
        "To enable:\n",
        "1. Upload your own `credentials.json` from Google Cloud Console.\n",
        "2. Uncomment the code block below.\n",
        "3. Call `add_study_reminder()` after logging your study session.\n"
      ],
      "metadata": {
        "id": "MJ_3pKzWw4B6"
      }
    },
    {
      "cell_type": "code",
      "source": [
        "import os.path\n",
        "import pickle\n",
        "from google.auth.transport.requests import Request\n",
        "from google_auth_oauthlib.flow import InstalledAppFlow\n",
        "from googleapiclient.discovery import build\n",
        "import datetime\n",
        "\n",
        "def authenticate_google_calendar():\n",
        "    SCOPES = ['https://www.googleapis.com/auth/calendar']\n",
        "    creds = None\n",
        "\n",
        "    if os.path.exists('token.pickle'):\n",
        "        with open('token.pickle', 'rb') as token:\n",
        "            creds = pickle.load(token)\n",
        "\n",
        "    if not creds or not creds.valid:\n",
        "        if creds and creds.expired and creds.refresh_token:\n",
        "            creds.refresh(Request())\n",
        "        else:\n",
        "            flow = InstalledAppFlow.from_client_secrets_file('credentials.json', SCOPES)\n",
        "            creds = flow.run_local_server(port=0, auth_local_webserver=False)\n",
        "\n",
        "        with open('token.pickle', 'wb') as token:\n",
        "            pickle.dump(creds, token)\n",
        "\n",
        "    service = build('calendar', 'v3', credentials=creds)\n",
        "    return service"
      ],
      "metadata": {
        "id": "bzkRXoA1lcTl"
      },
      "execution_count": 18,
      "outputs": []
    },
    {
      "cell_type": "code",
      "source": [
        "def add_study_reminder(subject, date_str, time_str, duration_minutes=60):\n",
        "    service = authenticate_google_calendar()\n",
        "\n",
        "    start_time = datetime.datetime.strptime(f\"{date_str} {time_str}\", \"%Y-%m-%d %H:%M\")\n",
        "    end_time = start_time + datetime.timedelta(minutes=duration_minutes)\n",
        "\n",
        "    event = {\n",
        "        'summary': f'Study: {subject}',\n",
        "        'description': f'Study session for {subject}',\n",
        "        'start': {\n",
        "            'dateTime': start_time.isoformat(),\n",
        "            'timeZone': 'Africa/Lagos',\n",
        "        },\n",
        "        'end': {\n",
        "            'dateTime': end_time.isoformat(),\n",
        "            'timeZone': 'Africa/Lagos',\n",
        "        },\n",
        "        'reminders': {\n",
        "            'useDefault': True,\n",
        "        },\n",
        "    }\n",
        "\n",
        "    event = service.events().insert(calendarId='primary', body=event).execute()\n",
        "    print(f\"✅ Study reminder for '{subject}' added on {start_time.strftime('%Y-%m-%d %H:%M')}\")\n"
      ],
      "metadata": {
        "id": "6nbEgol1A5LE"
      },
      "execution_count": 14,
      "outputs": []
    },
    {
      "cell_type": "markdown",
      "source": [
        "### 📧 Email Reminder (Mock)\n",
        "\n",
        "This notebook uses a mock email reminder function for demo purposes.\n",
        "\n",
        "To enable real email reminders:\n",
        "- Use Gmail SMTP\n",
        "- Generate an App Password\n",
        "- Replace the mock function with secure SMTP logic (see documentation or ask the author 😉)\n"
      ],
      "metadata": {
        "id": "EzdRijac1Fw6"
      }
    },
    {
      "cell_type": "code",
      "source": [
        "def send_email_reminder(subject, body, to_email):\n",
        "    print(f\"📧 (Mock) Email reminder to {to_email}:\\nSubject: {subject}\\nMessage: {body}\")"
      ],
      "metadata": {
        "id": "cYt3lCf10pha"
      },
      "execution_count": 15,
      "outputs": []
    },
    {
      "cell_type": "code",
      "source": [
        "# 🔒 Mock Email Reminder Example\n",
        "send_email_reminder(\n",
        "    subject=\"Study Reminder: Python Programming\",\n",
        "    body=\"Hi Salim, don't forget to study Python Programming at 8:00 PM today.\",\n",
        "    to_email=\"salim@example.com\"\n",
        ")\n"
      ],
      "metadata": {
        "colab": {
          "base_uri": "https://localhost:8080/"
        },
        "id": "6X0MuDV40z35",
        "outputId": "55835fd9-8c72-4552-b67b-f3a74b262f99"
      },
      "execution_count": 16,
      "outputs": [
        {
          "output_type": "stream",
          "name": "stdout",
          "text": [
            "📧 (Mock) Email reminder to salim@example.com:\n",
            "Subject: Study Reminder: Python Programming\n",
            "Message: Hi Salim, don't forget to study Python Programming at 8:00 PM today.\n"
          ]
        }
      ]
    },
    {
      "cell_type": "markdown",
      "source": [
        "### 🛑 Reminder Feature Note\n",
        "\n",
        "Google Calendar integration is included but disabled in this demo version.  \n",
        "To enable it, set up your `credentials.json` and uncomment the reminder line in the code cell below."
      ],
      "metadata": {
        "id": "-k-ZJtEitqda"
      }
    },
    {
      "cell_type": "code",
      "source": [
        "# 🔒 Disabled for demo: Enable this line if you’ve set up Google Calendar credentials\n",
        "# add_study_reminder(\"Python Programming\", \"2025-07-23\", \"20:00\", duration_minutes=90)\n"
      ],
      "metadata": {
        "id": "sG1lcFvslp40"
      },
      "execution_count": 17,
      "outputs": []
    }
  ]
}